{
 "cells": [
  {
   "cell_type": "markdown",
   "id": "16f6bb49",
   "metadata": {},
   "source": [
    "![iceberg-logo](https://www.apache.org/logos/res/iceberg/iceberg.png)"
   ]
  },
  {
   "cell_type": "markdown",
   "id": "c82657e9",
   "metadata": {},
   "source": [
    "# An Introduction to the Iceberg Scala API"
   ]
  },
  {
   "cell_type": "markdown",
   "id": "3ee90ad2",
   "metadata": {},
   "source": [
    "## [Part 1 - Loading a Catalog and Creating a Table](https://tabular.io/blog/java-api-part-1/)"
   ]
  },
  {
   "cell_type": "code",
   "execution_count": null,
   "id": "f5c29777-3fd4-4fb1-81c4-799db166ebf7",
   "metadata": {},
   "outputs": [],
   "source": [
    "spark"
   ]
  },
  {
   "cell_type": "code",
   "execution_count": null,
   "id": "72e68c62",
   "metadata": {},
   "outputs": [],
   "source": [
    "import org.apache.iceberg.catalog.Catalog\n",
    "import org.apache.hadoop.conf.Configuration\n",
    "import org.apache.iceberg.CatalogProperties\n",
    "import org.apache.iceberg.rest.RESTCatalog\n",
    "import org.apache.iceberg.aws.s3.S3FileIOProperties\n",
    "\n",
    "import scala.collection.JavaConverters._\n",
    "\n",
    "val properties: Map[String, String] = Map(\n",
    "  CatalogProperties.CATALOG_IMPL -> \"org.apache.iceberg.rest.RESTCatalog\",\n",
    "  CatalogProperties.URI -> \"http://rest:8181\",\n",
    "  CatalogProperties.WAREHOUSE_LOCATION -> \"s3a://warehouse/wh\",\n",
    "  CatalogProperties.FILE_IO_IMPL -> \"org.apache.iceberg.aws.s3.S3FileIO\",\n",
    "  S3FileIOProperties.ENDPOINT -> \"http://minio:9000\"\n",
    ")\n",
    "\n",
    "val catalog = new RESTCatalog()\n",
    "val conf = new Configuration()\n",
    "catalog.setConf(conf)\n",
    "catalog.initialize(\"demo\", properties.asJava)\n",
    "catalog.name()"
   ]
  },
  {
   "cell_type": "code",
   "execution_count": null,
   "id": "4be615e7",
   "metadata": {},
   "outputs": [],
   "source": [
    "import org.apache.iceberg.Schema\n",
    "import org.apache.iceberg.types.Types\n",
    "\n",
    "val schema = new Schema(\n",
    "  Types.NestedField.required(1, \"level\", Types.StringType.get()),\n",
    "  Types.NestedField.required(2, \"event_time\", Types.TimestampType.withZone()),\n",
    "  Types.NestedField.required(3, \"message\", Types.StringType.get()),\n",
    "  Types.NestedField.optional(4, \"call_stack\", Types.ListType.ofRequired(5, Types.StringType.get()))\n",
    ")\n",
    "\n",
    "schema"
   ]
  },
  {
   "cell_type": "code",
   "execution_count": null,
   "id": "b7299d16",
   "metadata": {},
   "outputs": [],
   "source": [
    "import org.apache.iceberg.PartitionSpec\n",
    "\n",
    "val spec = PartitionSpec.builderFor(schema).hour(\"event_time\").identity(\"level\").build()"
   ]
  },
  {
   "cell_type": "code",
   "execution_count": null,
   "id": "4d900c97",
   "metadata": {},
   "outputs": [],
   "source": [
    "import org.apache.iceberg.catalog.TableIdentifier\n",
    "import org.apache.iceberg.catalog.Namespace\n",
    "\n",
    "val nyc = Namespace.of(\"nyc\")\n",
    "val name = TableIdentifier.of(nyc, \"logs\")"
   ]
  },
  {
   "cell_type": "code",
   "execution_count": null,
   "id": "c0ed4251-1ccf-4ab2-bc1f-077df739b892",
   "metadata": {},
   "outputs": [],
   "source": [
    "val sql = s\"DROP TABLE IF EXISTS $name\"\n",
    "spark.sql(sql)"
   ]
  },
  {
   "cell_type": "code",
   "execution_count": null,
   "id": "8a4d8a6e",
   "metadata": {},
   "outputs": [],
   "source": [
    "catalog.createTable(name, schema, spec)"
   ]
  },
  {
   "cell_type": "markdown",
   "id": "fe62e0a9",
   "metadata": {},
   "source": [
    "## [Part 2 - Table Scans](https://tabular.io/blog/java-api-part-2/)"
   ]
  },
  {
   "cell_type": "code",
   "execution_count": null,
   "id": "e4bcdf80-720d-4ea0-8296-eb93ffe8bfc0",
   "metadata": {},
   "outputs": [],
   "source": [
    "val sql = s\"DROP TABLE IF EXISTS $name\"\n",
    "spark.sql(sql)"
   ]
  },
  {
   "cell_type": "code",
   "execution_count": null,
   "id": "c1e7aa7a",
   "metadata": {},
   "outputs": [],
   "source": [
    "catalog.createTable(name, schema, spec)"
   ]
  },
  {
   "cell_type": "code",
   "execution_count": null,
   "id": "0b17f820",
   "metadata": {},
   "outputs": [],
   "source": [
    "val query =\n",
    "  \"\"\"INSERT INTO demo.nyc.logs\n",
    "    |VALUES\n",
    "    |('info', timestamp 'today', 'Just letting you know!', array('stack trace line 1', 'stack trace line 2', 'stack trace line 3')),\n",
    "    |('warning', timestamp 'today', 'You probably should not do this!', array('stack trace line 1', 'stack trace line 2', 'stack trace line 3')),\n",
    "    |('error', timestamp 'today', 'This was a fatal application error!', array('stack trace line 1', 'stack trace line 2', 'stack trace line 3'))\n",
    "    |\"\"\".stripMargin\n",
    "\n",
    "spark.sql(query).show()"
   ]
  },
  {
   "cell_type": "code",
   "execution_count": null,
   "id": "15ca1822",
   "metadata": {},
   "outputs": [],
   "source": [
    "import org.apache.iceberg.catalog.Catalog\n",
    "import org.apache.hadoop.conf.Configuration\n",
    "import org.apache.iceberg.CatalogProperties\n",
    "import org.apache.iceberg.rest.RESTCatalog\n",
    "\n",
    "val properties: Map[String, String] = Map(\n",
    "  CatalogProperties.CATALOG_IMPL -> \"org.apache.iceberg.rest.RESTCatalog\",\n",
    "  CatalogProperties.URI -> \"http://rest:8181\",\n",
    "  CatalogProperties.WAREHOUSE_LOCATION -> \"s3a://warehouse/wh/\",\n",
    "  CatalogProperties.FILE_IO_IMPL -> \"org.apache.iceberg.aws.s3.S3FileIO\",\n",
    "  S3FileIOProperties.ENDPOINT -> \"http://minio:9000\"\n",
    ");\n",
    "\n",
    "val catalog = new RESTCatalog()\n",
    "val conf = new Configuration()\n",
    "catalog.setConf(conf)\n",
    "catalog.initialize(\"demo\", properties.asJava)"
   ]
  },
  {
   "cell_type": "code",
   "execution_count": null,
   "id": "3a5cf423",
   "metadata": {},
   "outputs": [],
   "source": [
    "import org.apache.iceberg.Table\n",
    "import org.apache.iceberg.TableScan\n",
    "import org.apache.iceberg.catalog.Namespace\n",
    "import org.apache.iceberg.catalog.TableIdentifier\n",
    "\n",
    "val nyc = Namespace.of(\"nyc\")\n",
    "val name = TableIdentifier.of(nyc, \"logs\")\n",
    "val table = catalog.loadTable(name)"
   ]
  },
  {
   "cell_type": "code",
   "execution_count": null,
   "id": "e472d6a1",
   "metadata": {},
   "outputs": [],
   "source": [
    "import org.apache.iceberg.io.CloseableIterable\n",
    "import org.apache.iceberg.data.Record\n",
    "import org.apache.iceberg.data.IcebergGenerics\n",
    "\n",
    "val result = IcebergGenerics.read(table).build()"
   ]
  },
  {
   "cell_type": "code",
   "execution_count": null,
   "id": "0d32f41c",
   "metadata": {},
   "outputs": [],
   "source": [
    "result.asScala.foreach(println)"
   ]
  },
  {
   "cell_type": "code",
   "execution_count": null,
   "id": "7dffc238",
   "metadata": {},
   "outputs": [],
   "source": [
    "import org.apache.iceberg.expressions.Expressions\n",
    "\n",
    "val result = IcebergGenerics.read(table).where(Expressions.equal(\"level\", \"error\")).build()"
   ]
  },
  {
   "cell_type": "code",
   "execution_count": null,
   "id": "ec2b0431",
   "metadata": {},
   "outputs": [],
   "source": [
    "import org.apache.iceberg.CombinedScanTask\n",
    "import org.apache.iceberg.TableScan\n",
    "\n",
    "val scan = table.newScan()"
   ]
  },
  {
   "cell_type": "code",
   "execution_count": null,
   "id": "09d13c6b",
   "metadata": {},
   "outputs": [],
   "source": [
    "import org.apache.iceberg.expressions.Expressions\n",
    "\n",
    "val filteredScan = scan.filter(Expressions.equal(\"level\", \"info\")).select(\"message\")"
   ]
  },
  {
   "cell_type": "code",
   "execution_count": null,
   "id": "1857c10f",
   "metadata": {},
   "outputs": [],
   "source": [
    "val result = filteredScan.planTasks()"
   ]
  },
  {
   "cell_type": "code",
   "execution_count": null,
   "id": "ea206ec7",
   "metadata": {},
   "outputs": [],
   "source": [
    "import org.apache.iceberg.DataFile;\n",
    "\n",
    "val task = result.iterator().next();\n",
    "val dataFile = task.files().iterator().next().file();\n",
    "System.out.println(dataFile);"
   ]
  },
  {
   "cell_type": "markdown",
   "id": "41e9e10f",
   "metadata": {},
   "source": [
    "## [Part 3 - Table Scans](https://tabular.io/blog/java-api-part-3/)"
   ]
  },
  {
   "cell_type": "code",
   "execution_count": null,
   "id": "29574130-7a69-4766-89e5-e3ced476518b",
   "metadata": {},
   "outputs": [],
   "source": [
    "val webapp = Namespace.of(\"webapp\")\n",
    "val name = TableIdentifier.of(webapp, \"user_events\")\n",
    "\n",
    "spark.sql(s\"DROP TABLE IF EXISTS $name\")"
   ]
  },
  {
   "cell_type": "code",
   "execution_count": null,
   "id": "81033412",
   "metadata": {},
   "outputs": [],
   "source": [
    "import org.apache.iceberg.Schema\n",
    "import org.apache.iceberg.types.Types\n",
    "import org.apache.iceberg.catalog.{Namespace, TableIdentifier}\n",
    "import org.apache.iceberg.PartitionSpec\n",
    "\n",
    "val schema = new Schema(\n",
    "  Types.NestedField.optional(1, \"event_id\", Types.StringType.get()),\n",
    "  Types.NestedField.optional(2, \"username\", Types.StringType.get()),\n",
    "  Types.NestedField.optional(3, \"userid\", Types.IntegerType.get()),\n",
    "  Types.NestedField.optional(4, \"api_version\", Types.StringType.get()),\n",
    "  Types.NestedField.optional(5, \"command\", Types.StringType.get())\n",
    ")\n",
    "\n",
    "catalog.createTable(name, schema, PartitionSpec.unpartitioned())"
   ]
  },
  {
   "cell_type": "code",
   "execution_count": null,
   "id": "12c45c6b",
   "metadata": {},
   "outputs": [],
   "source": [
    "import java.util.UUID\n",
    "import com.google.common.collect.{ImmutableList, ImmutableMap}\n",
    "import scala.jdk.CollectionConverters._\n",
    "import org.apache.iceberg.data.GenericRecord\n",
    "\n",
    "val record = GenericRecord.create(schema)\n",
    "val builder = ImmutableList.builder[GenericRecord]()\n",
    "\n",
    "val records = List(\n",
    "  Map(\n",
    "    \"event_id\" -> UUID.randomUUID().toString,\n",
    "    \"username\" -> \"Bruce\",\n",
    "    \"userid\" -> 1.asInstanceOf[AnyRef],\n",
    "    \"api_version\" -> \"1.0\",\n",
    "    \"command\" -> \"grapple\"\n",
    "  ),\n",
    "  Map(\n",
    "    \"event_id\" -> UUID.randomUUID().toString,\n",
    "    \"username\" -> \"Wayne\",\n",
    "    \"userid\" -> 1.asInstanceOf[AnyRef],\n",
    "    \"api_version\" -> \"1.0\",\n",
    "    \"command\" -> \"glide\"\n",
    "  ),\n",
    "  Map(\n",
    "    \"event_id\" -> UUID.randomUUID().toString,\n",
    "    \"username\" -> \"Clark\",\n",
    "    \"userid\" -> 1.asInstanceOf[AnyRef],\n",
    "    \"api_version\" -> \"2.0\",\n",
    "    \"command\" -> \"fly\"\n",
    "  ),\n",
    "  Map(\n",
    "    \"event_id\" -> UUID.randomUUID().toString,\n",
    "    \"username\" -> \"Kent\",\n",
    "    \"userid\" -> 1.asInstanceOf[AnyRef],\n",
    "    \"api_version\" -> \"1.0\",\n",
    "    \"command\" -> \"land\"\n",
    "  )\n",
    ").map(data => record.copy(data.mapValues(_.asInstanceOf[AnyRef]).toMap.asJava)).foreach(builder.add)"
   ]
  },
  {
   "cell_type": "code",
   "execution_count": null,
   "id": "83bc5319",
   "metadata": {},
   "outputs": [],
   "source": [
    "import java.util.UUID\n",
    "import org.apache.iceberg.io.{DataWriter, OutputFile}\n",
    "import org.apache.iceberg.parquet.Parquet\n",
    "import org.apache.iceberg.data.GenericRecord\n",
    "import org.apache.iceberg.data.parquet.GenericParquetWriter\n",
    "import org.apache.iceberg.PartitionSpec\n",
    "\n",
    "val filepath = s\"${table.location()}/${UUID.randomUUID().toString}\"\n",
    "val file: OutputFile = table.io().newOutputFile(filepath)\n",
    "\n",
    "val dataWriter: DataWriter[GenericRecord] =\n",
    "  Parquet.writeData(file)\n",
    "    .schema(schema)\n",
    "    .createWriterFunc(GenericParquetWriter.buildWriter(_))\n",
    "    .overwrite()\n",
    "    .withSpec(PartitionSpec.unpartitioned())\n",
    "    .build()\n",
    "\n",
    "try {\n",
    "  for (record <- builder.build().asScala) {\n",
    "    dataWriter.write(record)\n",
    "  }\n",
    "} finally {\n",
    "  dataWriter.close()\n",
    "}\n"
   ]
  },
  {
   "cell_type": "code",
   "execution_count": null,
   "id": "469e6af4",
   "metadata": {},
   "outputs": [],
   "source": [
    "import org.apache.iceberg.DataFile\n",
    "\n",
    "val dataFile = dataWriter.toDataFile()"
   ]
  },
  {
   "cell_type": "code",
   "execution_count": null,
   "id": "142b6ed1",
   "metadata": {},
   "outputs": [],
   "source": [
    "import org.apache.iceberg.catalog.Namespace\n",
    "import org.apache.iceberg.catalog.TableIdentifier\n",
    "import org.apache.iceberg.Table;\n",
    "\n",
    "val webapp = Namespace.of(\"webapp\");\n",
    "val name = TableIdentifier.of(webapp, \"user_events\");\n",
    "val tbl = catalog.loadTable(name);\n",
    "tbl.newAppend().appendFile(dataFile).commit()"
   ]
  },
  {
   "cell_type": "code",
   "execution_count": null,
   "id": "c61e9e79",
   "metadata": {},
   "outputs": [],
   "source": [
    "import org.apache.iceberg.io.CloseableIterable\n",
    "import org.apache.iceberg.data.Record\n",
    "import org.apache.iceberg.data.IcebergGenerics\n",
    "\n",
    "val result = IcebergGenerics.read(tbl).build();\n",
    "result.asScala.foreach(println)"
   ]
  },
  {
   "cell_type": "code",
   "execution_count": null,
   "id": "801aec53-47e3-4441-bd15-6dd7a4cabb21",
   "metadata": {},
   "outputs": [],
   "source": []
  },
  {
   "cell_type": "code",
   "execution_count": null,
   "id": "8bc6dc94-396f-42ae-ac60-bb27cf86ea13",
   "metadata": {},
   "outputs": [],
   "source": []
  },
  {
   "cell_type": "code",
   "execution_count": null,
   "id": "c80f1225-f73a-44ec-b53a-58d652a34a45",
   "metadata": {},
   "outputs": [],
   "source": []
  }
 ],
 "metadata": {
  "kernelspec": {
   "display_name": "spylon-kernel",
   "language": "scala",
   "name": "spylon-kernel"
  },
  "language_info": {
   "codemirror_mode": "text/x-scala",
   "file_extension": ".scala",
   "help_links": [
    {
     "text": "MetaKernel Magics",
     "url": "https://metakernel.readthedocs.io/en/latest/source/README.html"
    }
   ],
   "mimetype": "text/x-scala",
   "name": "scala",
   "pygments_lexer": "scala",
   "version": "0.4.1"
  }
 },
 "nbformat": 4,
 "nbformat_minor": 5
}
