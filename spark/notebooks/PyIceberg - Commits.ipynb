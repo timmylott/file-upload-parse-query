{
 "cells": [
  {
   "cell_type": "markdown",
   "id": "1041ae6f",
   "metadata": {},
   "source": [
    "![iceberg-logo](https://www.apache.org/logos/res/iceberg/iceberg.png)"
   ]
  },
  {
   "cell_type": "markdown",
   "id": "247fb2ab",
   "metadata": {},
   "source": [
    "### [Docker, Spark, and Iceberg: The Fastest Way to Try Iceberg!](https://tabular.io/blog/docker-spark-and-iceberg/)"
   ]
  },
  {
   "cell_type": "code",
   "execution_count": null,
   "id": "6a5c8206",
   "metadata": {},
   "outputs": [],
   "source": [
    "from pyiceberg import __version__\n",
    "\n",
    "__version__"
   ]
  },
  {
   "cell_type": "markdown",
   "id": "6f9a9f41",
   "metadata": {},
   "source": [
    "# Write support\n",
    "\n",
    "This notebook demonstrates writing to Iceberg tables using PyIceberg. First, connect to the [catalog](https://iceberg.apache.org/concepts/catalog/#iceberg-catalogs), the place where tables are being tracked."
   ]
  },
  {
   "cell_type": "code",
   "execution_count": null,
   "id": "47645b52",
   "metadata": {},
   "outputs": [],
   "source": [
    "from pyiceberg.catalog import load_catalog\n",
    "\n",
    "catalog = load_catalog('default')"
   ]
  },
  {
   "cell_type": "markdown",
   "id": "bf1d58ad-5cc1-4e8c-9d7b-a54e67def783",
   "metadata": {},
   "source": [
    "# Create an Iceberg table\n",
    "\n",
    "Next create the Iceberg table directly from the `pyarrow.Table`."
   ]
  },
  {
   "cell_type": "code",
   "execution_count": null,
   "id": "47e5a21d-de87-4aaf-aa06-dc5048acba58",
   "metadata": {},
   "outputs": [],
   "source": [
    "table_name = \"default.commits\"\n",
    "\n",
    "try:\n",
    "    # In case the table already exists\n",
    "    catalog.drop_table(table_name)\n",
    "except:\n",
    "    pass\n",
    "\n",
    "from pyiceberg.schema import Schema, NestedField, StringType, LongType\n",
    "\n",
    "schema = Schema(\n",
    "    NestedField(1, \"id\", LongType(), True),\n",
    "    NestedField(2, \"name\", StringType(), True),\n",
    "    NestedField(3, \"state\", StringType(), True),\n",
    "    NestedField(4, \"additions\", LongType(), True),\n",
    "    NestedField(5, \"deletes\", LongType(), True),\n",
    "    identifier_field_ids=[1]\n",
    ")\n",
    "\n",
    "table = catalog.create_table(table_name, schema=schema)\n",
    "\n",
    "table"
   ]
  },
  {
   "cell_type": "markdown",
   "id": "c531bd4b-9943-4516-9a6a-99fab016ed2b",
   "metadata": {},
   "source": [
    "# Loading data using Arrow\n",
    "\n",
    "Create an example PyArrow table that mimics data from the GitHub API."
   ]
  },
  {
   "cell_type": "code",
   "execution_count": null,
   "id": "9fddb808",
   "metadata": {},
   "outputs": [],
   "source": [
    "import pyarrow as pa\n",
    "\n",
    "from pyiceberg.io.pyarrow import schema_to_pyarrow\n",
    "\n",
    "pa_schema = schema_to_pyarrow(schema)\n",
    "\n",
    "df = pa.Table.from_pylist(\n",
    "    [\n",
    "        {\"id\": 123, \"name\": \"Fix bug\", \"state\": \"Open\", \"additions\": 22, \"deletes\": 10},\n",
    "        {\"id\": 234, \"name\": \"Add VariantType\", \"state\": \"Open\", \"additions\": 29123, \"deletes\": 302},\n",
    "        {\"id\": 345, \"name\": \"Add commit retries\", \"state\": \"Open\", \"additions\": 22, \"deletes\": 10},\n",
    "    ],\n",
    "    schema=pa_schema\n",
    ")\n",
    "\n",
    "df"
   ]
  },
  {
   "cell_type": "markdown",
   "id": "d612c035-4cf6-47a0-844b-165dfb463bbc",
   "metadata": {},
   "source": [
    "# Write the data\n",
    "\n",
    "Let's append the data to the table:"
   ]
  },
  {
   "cell_type": "code",
   "execution_count": null,
   "id": "efee8252",
   "metadata": {
    "pycharm": {
     "name": "#%%\n"
    }
   },
   "outputs": [],
   "source": [
    "table.append(df)\n",
    "\n",
    "assert len(table.scan().to_arrow()) == len(df)\n",
    "\n",
    "table.scan().to_pandas()"
   ]
  },
  {
   "cell_type": "code",
   "execution_count": null,
   "id": "9ce1cecc-8cb0-4622-b0eb-55880d091556",
   "metadata": {},
   "outputs": [],
   "source": [
    "table.inspect.snapshots().to_pandas()"
   ]
  },
  {
   "cell_type": "markdown",
   "id": "c029ea44-8ba6-4c08-a60d-5fffac6c3666",
   "metadata": {},
   "source": [
    "# Add moar data"
   ]
  },
  {
   "cell_type": "code",
   "execution_count": null,
   "id": "794de3a0",
   "metadata": {},
   "outputs": [],
   "source": [
    "table.append(pa.Table.from_pylist(\n",
    "    [\n",
    "        {\"id\": 456, \"name\": \"Add NanosecondTimestamps\", \"state\": \"Merged\", \"additions\": 2392, \"deletes\": 8},\n",
    "        {\"id\": 567, \"name\": \"Add documentation around filters\", \"state\": \"Open\", \"additions\": 7543, \"deletes\": 3},\n",
    "    ],\n",
    "    schema=pa_schema\n",
    "))\n",
    "\n",
    "table.scan().to_pandas()"
   ]
  },
  {
   "cell_type": "code",
   "execution_count": null,
   "id": "f3ac7021",
   "metadata": {},
   "outputs": [],
   "source": [
    "table.inspect.snapshots().to_pandas()"
   ]
  },
  {
   "cell_type": "markdown",
   "id": "d1b56466-1878-4391-b726-fca9d3b80705",
   "metadata": {},
   "source": [
    "# Upsert new data"
   ]
  },
  {
   "cell_type": "code",
   "execution_count": null,
   "id": "5157a36e-1ab2-4a5b-bf73-1f2d462b0002",
   "metadata": {},
   "outputs": [],
   "source": [
    "table.upsert(pa.Table.from_pylist(\n",
    "    [\n",
    "        # Nothing changes: No-op\n",
    "        {\"id\": 456, \"name\": \"Add NanosecondTimestamps\", \"state\": \"Merged\", \"additions\": 2392, \"deletes\": 8},\n",
    "\n",
    "        # Updated, nc\n",
    "        {\"id\": 567, \"name\": \"Add documentation around filters\", \"state\": \"Merged\", \"additions\": 9238, \"deletes\": 22},\n",
    "    ],\n",
    "    schema=pa_schema\n",
    "))\n",
    "\n",
    "table.scan().to_pandas()"
   ]
  },
  {
   "cell_type": "code",
   "execution_count": null,
   "id": "cf7e1edd-7335-40c1-a50b-90c50536ae6f",
   "metadata": {},
   "outputs": [],
   "source": []
  },
  {
   "cell_type": "code",
   "execution_count": null,
   "id": "a69bba68-33c9-4c43-998d-e8e91a807341",
   "metadata": {},
   "outputs": [],
   "source": []
  },
  {
   "cell_type": "code",
   "execution_count": null,
   "id": "90bed74a-05cd-471d-acf6-a76cb1e4d57c",
   "metadata": {},
   "outputs": [],
   "source": []
  },
  {
   "cell_type": "code",
   "execution_count": null,
   "id": "bde071db-f43c-4a7d-929e-a9d904effdc5",
   "metadata": {},
   "outputs": [],
   "source": []
  }
 ],
 "metadata": {
  "kernelspec": {
   "display_name": "Python 3 (ipykernel)",
   "language": "python",
   "name": "python3"
  },
  "language_info": {
   "codemirror_mode": {
    "name": "ipython",
    "version": 3
   },
   "file_extension": ".py",
   "mimetype": "text/x-python",
   "name": "python",
   "nbconvert_exporter": "python",
   "pygments_lexer": "ipython3",
   "version": "3.10.16"
  }
 },
 "nbformat": 4,
 "nbformat_minor": 5
}
